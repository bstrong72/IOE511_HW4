{
 "cells": [
  {
   "cell_type": "code",
   "execution_count": 1,
   "id": "59dab544",
   "metadata": {},
   "outputs": [
    {
     "name": "stdout",
     "output_type": "stream",
     "text": [
      "Using matplotlib backend: Qt5Agg\n",
      "Populating the interactive namespace from numpy and matplotlib\n"
     ]
    }
   ],
   "source": [
    "%pylab"
   ]
  },
  {
   "cell_type": "code",
   "execution_count": 2,
   "id": "ad0a255b",
   "metadata": {},
   "outputs": [],
   "source": [
    "import functions\n",
    "import algorithms \n",
    "import optSolver\n",
    "import scipy.io as spio"
   ]
  },
  {
   "cell_type": "code",
   "execution_count": 3,
   "id": "acbf320c",
   "metadata": {},
   "outputs": [],
   "source": [
    "## The correct way to call a certain function in functions.py is as follows\n",
    "## x0 = np.array([[1.2],[1.2]])\n",
    "## functions.rosen_func(x0)"
   ]
  },
  {
   "cell_type": "code",
   "execution_count": 4,
   "id": "70bd3b52",
   "metadata": {},
   "outputs": [],
   "source": [
    "## Define three class objects required in 'optSolver' and their attributes \n",
    "\n",
    "class Problem:\n",
    "    def __init__(self, name, w0, X, y, compute_f, compute_g):\n",
    "        self.name = name\n",
    "        self.w0 = w0\n",
    "        self.X = X\n",
    "        self.y = y\n",
    "        self.compute_f = compute_f\n",
    "        self.compute_g = compute_g\n",
    "        \n",
    "class Method:\n",
    "    def __init__(self, name, step_type, step_size):\n",
    "        self.name = name\n",
    "        self.step_type = step_type\n",
    "        self.step_size = step_size\n",
    "        \n",
    "class Options:\n",
    "    def __init__(self,term_tol = 1e-6, max_iterations = 20, batch_size = 1):\n",
    "        self.term_tol = term_tol\n",
    "        self.max_iterations = max_iterations\n",
    "        self.batch_size = batch_size"
   ]
  },
  {
   "cell_type": "code",
   "execution_count": 5,
   "id": "found-classroom",
   "metadata": {},
   "outputs": [],
   "source": [
    "# Load data from appropriate file\n",
    "data = spio.loadmat('mushroom.mat', squeeze_me=True)"
   ]
  },
  {
   "cell_type": "code",
   "execution_count": 58,
   "id": "5219e690",
   "metadata": {},
   "outputs": [],
   "source": [
    "## Instantiate\n",
    "# Set X and y data\n",
    "X = data['X_train']\n",
    "y = data['y_train']\n",
    "# initialize w (should be same length as each x variables from your data)\n",
    "w0 = [0 for i in range(112)]\n",
    "# Initialize problem, method, and options objects\n",
    "problem = Problem('LeastSquares', w0, X, y, functions.least_square_func,functions.least_square_grad)\n",
    "# step_size functions as initial step size if backtracking, otherwise it is the constant step size.\n",
    "method = Method('StochasticGradient','Backtracking', 0.05)\n",
    "options = Options(1e-6, 2240, 1) # if using options = Options(), term_tol and max_iterations will set to be default values"
   ]
  },
  {
   "cell_type": "code",
   "execution_count": 59,
   "id": "c581bc6a",
   "metadata": {
    "scrolled": true
   },
   "outputs": [
    {
     "name": "stdout",
     "output_type": "stream",
     "text": [
      "[ 0.08673023  0.01825958  0.0972485   0.03612249 -0.20254755  0.02473521\n",
      "  0.00948553  0.0022858   0.06946579 -0.02068866 -0.12751287  0.23550752\n",
      " -0.04550858  0.05890836 -0.04782443  0.2198809  -0.16059754 -0.24172138\n",
      "  0.12702325  0.04239324  0.07819629 -0.01764783 -0.84548773  0.7762753\n",
      "  0.34595132  0.13633653 -0.8710475  -0.73936915  0.60066322  0.30548299\n",
      "  0.35174347 -0.05218825  0.11273671  0.11538919 -0.05484073 -0.23675857\n",
      "  0.29730702  0.12659231 -0.18319118  0.03257072 -0.01659366  0.01950111\n",
      "  0.00449916 -0.04373101 -0.03311489  0.26161721 -0.08948514 -0.04751648\n",
      "  0.0294003   0.00237319  0.05817527  0.18004069 -0.07614721 -0.00274636\n",
      " -0.04059866  0.12344525  0.01870803  0.01326627 -0.09487109  0.13633653\n",
      " -0.00166991 -0.11432489 -0.00535243 -0.10944792 -0.04325314 -0.01814988\n",
      "  0.0363694   0.18004069  0.13633653 -0.03017002 -0.25092096  0.03759148\n",
      " -0.10944792 -0.0319632   0.00318633  0.00280459  0.30313163  0.06054846\n",
      "  0.18004069 -0.05821295 -0.01004431 -0.05123497  0.03964509 -0.11543317\n",
      "  0.13633653  0.0485573   0.13633653  0.10192735  0.29444492 -0.52071765\n",
      " -0.06208808  0.35586782 -0.29561027 -0.06114549 -0.3317375   0.92661946\n",
      " -0.2226894  -0.16871163 -0.07995646  0.04317509  0.30625714 -0.12222295\n",
      " -0.03783431 -0.05668469 -0.07214182  0.07587255  0.10046342  0.10152412\n",
      "  0.07574146  0.03730045 -0.00305451 -0.32729902]\n",
      "0.012015552807518084\n"
     ]
    }
   ],
   "source": [
    "## Implement the algorithm on a problem\n",
    "w, f, k, plots = optSolver.optSolver_Strong_Benjamin(problem,method,options)\n",
    "print(w)\n",
    "print(f)\n",
    "#print(k)\n",
    "#print(plots)"
   ]
  },
  {
   "cell_type": "code",
   "execution_count": null,
   "id": "appreciated-paint",
   "metadata": {},
   "outputs": [],
   "source": []
  },
  {
   "cell_type": "code",
   "execution_count": null,
   "id": "stunning-detective",
   "metadata": {},
   "outputs": [],
   "source": []
  }
 ],
 "metadata": {
  "kernelspec": {
   "display_name": "Python 3",
   "language": "python",
   "name": "python3"
  },
  "language_info": {
   "codemirror_mode": {
    "name": "ipython",
    "version": 3
   },
   "file_extension": ".py",
   "mimetype": "text/x-python",
   "name": "python",
   "nbconvert_exporter": "python",
   "pygments_lexer": "ipython3",
   "version": "3.7.10"
  }
 },
 "nbformat": 4,
 "nbformat_minor": 5
}
