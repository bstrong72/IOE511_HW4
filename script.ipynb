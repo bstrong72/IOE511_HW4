{
 "cells": [
  {
   "cell_type": "code",
   "execution_count": 1,
   "id": "59dab544",
   "metadata": {},
   "outputs": [
    {
     "name": "stdout",
     "output_type": "stream",
     "text": [
      "Using matplotlib backend: Qt5Agg\n",
      "Populating the interactive namespace from numpy and matplotlib\n"
     ]
    }
   ],
   "source": [
    "%pylab"
   ]
  },
  {
   "cell_type": "code",
   "execution_count": 2,
   "id": "ad0a255b",
   "metadata": {},
   "outputs": [],
   "source": [
    "import functions\n",
    "import algorithms \n",
    "import optSolver\n",
    "import scipy.io as spio"
   ]
  },
  {
   "cell_type": "code",
   "execution_count": 3,
   "id": "acbf320c",
   "metadata": {},
   "outputs": [],
   "source": [
    "## The correct way to call a certain function in functions.py is as follows\n",
    "## x0 = np.array([[1.2],[1.2]])\n",
    "## functions.rosen_func(x0)"
   ]
  },
  {
   "cell_type": "code",
   "execution_count": 9,
   "id": "70bd3b52",
   "metadata": {},
   "outputs": [],
   "source": [
    "## Define three class objects required in 'optSolver' and their attributes \n",
    "\n",
    "class Problem:\n",
    "    def __init__(self, name, w0, X, y, compute_f, compute_g):\n",
    "        self.name = name\n",
    "        self.w0 = w0\n",
    "        self.X = X\n",
    "        self.y = y\n",
    "        self.compute_f = compute_f\n",
    "        self.compute_g = compute_g\n",
    "        \n",
    "class Method:\n",
    "    def __init__(self, name, step_type, constant_step_size):\n",
    "        self.name = name\n",
    "        self.step_type = step_type\n",
    "        self.constant_step_size = constant_step_size\n",
    "        \n",
    "class Options:\n",
    "    def __init__(self,term_tol = 1e-6, max_iterations = 20):\n",
    "        self.term_tol = term_tol\n",
    "        self.max_iterations = max_iterations"
   ]
  },
  {
   "cell_type": "code",
   "execution_count": 10,
   "id": "found-classroom",
   "metadata": {},
   "outputs": [],
   "source": [
    "# Load data from appropriate file\n",
    "data = spio.loadmat('australian.mat', squeeze_me=True)"
   ]
  },
  {
   "cell_type": "code",
   "execution_count": 11,
   "id": "5219e690",
   "metadata": {},
   "outputs": [],
   "source": [
    "## Instantiate\n",
    "# Set X and y data\n",
    "X = data['X_train']\n",
    "y = data['y_train']\n",
    "# initialize w (should be same length as each x variables from your data)\n",
    "w0 = [0, 0, 0, 0, 0, 0, 0, 0, 0, 0, 0, 0, 0, 0]\n",
    "# Initialize problem, method, and options objects\n",
    "problem = Problem('LeastSquares', w0, X, y, functions.least_square_func,functions.least_square_grad)\n",
    "method = Method('GradientDescent','Backtracking', 0.5)\n",
    "options = Options(1e-6, 2000) # if using options = Options(), term_tol and max_iterations will set to be default values"
   ]
  },
  {
   "cell_type": "code",
   "execution_count": 12,
   "id": "c581bc6a",
   "metadata": {
    "scrolled": true
   },
   "outputs": [
    {
     "name": "stdout",
     "output_type": "stream",
     "text": [
      "[-0.00544194  0.118241   -0.00090241  0.13591502  0.24286596  0.08994792\n",
      "  0.03057239  0.59472929  0.08570686  0.39435193 -0.03196484  0.22751796\n",
      " -0.28845086 -0.13944539]\n",
      "0.20074644854438103\n"
     ]
    }
   ],
   "source": [
    "## Implement the algorithm on a problem\n",
    "w, f, k, plots = optSolver.optSolver_Strong_Benjamin(problem,method,options)\n",
    "print(w)\n",
    "print(f)\n",
    "#print(k)\n",
    "#print(plots)"
   ]
  },
  {
   "cell_type": "code",
   "execution_count": null,
   "id": "appreciated-paint",
   "metadata": {},
   "outputs": [],
   "source": []
  },
  {
   "cell_type": "code",
   "execution_count": null,
   "id": "stunning-detective",
   "metadata": {},
   "outputs": [],
   "source": []
  }
 ],
 "metadata": {
  "kernelspec": {
   "display_name": "Python 3",
   "language": "python",
   "name": "python3"
  },
  "language_info": {
   "codemirror_mode": {
    "name": "ipython",
    "version": 3
   },
   "file_extension": ".py",
   "mimetype": "text/x-python",
   "name": "python",
   "nbconvert_exporter": "python",
   "pygments_lexer": "ipython3",
   "version": "3.7.10"
  }
 },
 "nbformat": 4,
 "nbformat_minor": 5
}
